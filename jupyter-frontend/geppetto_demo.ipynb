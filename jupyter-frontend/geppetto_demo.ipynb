{
 "cells": [
  {
   "cell_type": "code",
   "execution_count": 12,
   "metadata": {
    "collapsed": false
   },
   "outputs": [
    {
     "name": "stdout",
     "output_type": "stream",
     "text": [
      "The autoreload extension is already loaded. To reload it, use:\n",
      "  %reload_ext autoreload\n"
     ]
    }
   ],
   "source": [
    "%load_ext autoreload\n",
    "%autoreload 2\n",
    "from RunControl import *\n",
    "showRunControlPanel()"
   ]
  },
  {
   "cell_type": "code",
   "execution_count": 2,
   "metadata": {
    "collapsed": false
   },
   "outputs": [
    {
     "name": "stdout",
     "output_type": "stream",
     "text": [
      "Created cell 0\n",
      "Created cell 1\n",
      "Created cell 2\n",
      "Created cell 3\n",
      "Created cell 4\n",
      "Created cell 5\n",
      "Created cell 6\n",
      "Created cell 7\n",
      "Created cell 8\n",
      "Created cell 9\n",
      "Created connection between cell 9 and cell 0\n",
      "Created connection between cell 0 and cell 1\n",
      "Created connection between cell 1 and cell 2\n",
      "Created connection between cell 2 and cell 3\n",
      "Created connection between cell 3 and cell 4\n",
      "Created connection between cell 4 and cell 5\n",
      "Created connection between cell 5 and cell 6\n",
      "Created connection between cell 6 and cell 7\n",
      "Created connection between cell 7 and cell 8\n",
      "Created connection between cell 8 and cell 9\n"
     ]
    }
   ],
   "source": [
    "#from verysimple_cell import *\n",
    "#from simple_cell import *\n",
    "from simple_network import *"
   ]
  },
  {
   "cell_type": "code",
   "execution_count": 3,
   "metadata": {
    "collapsed": false
   },
   "outputs": [],
   "source": [
    "analysis()"
   ]
  },
  {
   "cell_type": "code",
   "execution_count": 7,
   "metadata": {
    "collapsed": false
   },
   "outputs": [
    {
     "data": {
      "text/plain": [
       "0.009999990463256836"
      ]
     },
     "execution_count": 7,
     "metadata": {},
     "output_type": "execute_result"
    }
   ],
   "source": [
    "h.t\n",
    "h._ref_t.t\n",
    "h.realtime\n",
    "h._ref_t.realtime"
   ]
  },
  {
   "cell_type": "code",
   "execution_count": 7,
   "metadata": {
    "collapsed": false
   },
   "outputs": [
    {
     "data": {
      "text/plain": [
       "<hoc.HocObject at 0x7fb9e4719f60>"
      ]
     },
     "execution_count": 7,
     "metadata": {},
     "output_type": "execute_result"
    }
   ],
   "source": [
    "h.StateTransitionEvent"
   ]
  },
  {
   "cell_type": "code",
   "execution_count": 7,
   "metadata": {
    "collapsed": false
   },
   "outputs": [],
   "source": [
    "h.stoprun = 2"
   ]
  },
  {
   "cell_type": "code",
   "execution_count": 3,
   "metadata": {
    "collapsed": false
   },
   "outputs": [
    {
     "data": {
      "text/plain": [
       "200.0"
      ]
     },
     "execution_count": 3,
     "metadata": {},
     "output_type": "execute_result"
    }
   ],
   "source": [
    "h.tstop"
   ]
  },
  {
   "cell_type": "code",
   "execution_count": null,
   "metadata": {
    "collapsed": true
   },
   "outputs": [],
   "source": []
  }
 ],
 "metadata": {
  "kernelspec": {
   "display_name": "Python 3",
   "language": "python",
   "name": "python3"
  },
  "language_info": {
   "codemirror_mode": {
    "name": "ipython",
    "version": 3
   },
   "file_extension": ".py",
   "mimetype": "text/x-python",
   "name": "python",
   "nbconvert_exporter": "python",
   "pygments_lexer": "ipython3",
   "version": "3.4.3"
  },
  "widgets": {
   "state": {
    "00903958dd2344b5a63d337a68d52fd7": {
     "views": []
    },
    "00f1ac95e7e248cdab0f90027c02e476": {
     "views": []
    },
    "00f88adc2f274ccca1bc16d98fbca561": {
     "views": []
    },
    "011cff9d1bbf492aa1ddbe8d2d0317d4": {
     "views": []
    },
    "020e195ab3904024a617c8808d400675": {
     "views": []
    },
    "02b0beb60763471cb3adbec9e93e3b1c": {
     "views": []
    },
    "03409c5aed3f49f38635531895ba9483": {
     "views": []
    },
    "034953cae3e544f9baaa5701dd180300": {
     "views": []
    },
    "036465f2a7744a31aa2c53c8e980afeb": {
     "views": []
    },
    "060999d3570f4f5e906ddeeeccf7e7e5": {
     "views": []
    },
    "06257242ba284f7592851a321b85c74d": {
     "views": []
    },
    "071b7794ed5247998a984cd805cd22da": {
     "views": []
    },
    "0720017d35874ed287a87c5563cac772": {
     "views": []
    },
    "0733c0bd78b440619e63e1d4f3db0119": {
     "views": []
    },
    "078b468ff42c4dd3869f199d9b0c2ade": {
     "views": []
    },
    "07f0df817e8640cc949f37b6ce7f0961": {
     "views": []
    },
    "0937d6d919274bd7993a0fd7d19ec514": {
     "views": []
    },
    "0ae4854e3fff46069326d5ee04544885": {
     "views": []
    },
    "0b5b8fdaa40b4bc1914cf77e8db75158": {
     "views": []
    },
    "0b5f620183a345678e0ee383c4c12f11": {
     "views": []
    },
    "0bca16adf18a4a17af5f4f08d7a168ab": {
     "views": []
    },
    "0bddcd7e904d46e2847af5967ddb772d": {
     "views": []
    },
    "0c95252fc13047b99f1141fdef2c591c": {
     "views": []
    },
    "0d6bdc81c3714b63b6d6d7f854f27f86": {
     "views": []
    },
    "0e074436e0f84062817a94783bba9b42": {
     "views": []
    },
    "0e2a900287a4496c8ceed2f7cd8910f4": {
     "views": []
    },
    "0e413632d8454067b1eb26c9da8d4a79": {
     "views": []
    },
    "1147cbd7764b4acebb3f8496511c033e": {
     "views": []
    },
    "1192370557524c188cf874484b0a37a5": {
     "views": []
    },
    "11d29321946648feb683360bb8533314": {
     "views": []
    },
    "129ae54321734582afbe2d1ee300bfbe": {
     "views": []
    },
    "14887a2a6b37435ab1bbeb4622033609": {
     "views": []
    },
    "15281df6d1e74537a7ddcd89f13a6d7b": {
     "views": []
    },
    "1573cd95006b458babfcd3049f08bcdb": {
     "views": []
    },
    "1758ca1e51294220af6d0287016240cb": {
     "views": []
    },
    "1778b6d2238d4626927882a8e4d88cce": {
     "views": []
    },
    "18718f414e7d4223afcafbc2326ae5ba": {
     "views": []
    },
    "18f09affa1324b32b07713f108782567": {
     "views": []
    },
    "194c88e47cb541a7825f586de5927c58": {
     "views": []
    },
    "1993c0303a034e3bbe849fe2c42df813": {
     "views": []
    },
    "1b1c821bb91441aea5701f27951a343c": {
     "views": []
    },
    "1cc554a7376241eaa895d8291953b935": {
     "views": []
    },
    "1ef9bdd3203c4466b50446efd50861a2": {
     "views": []
    },
    "1f5680d167fd41b7ab4c0b26b24ecfaa": {
     "views": []
    },
    "2022b7df96b244ef9e3e731ce59619e6": {
     "views": []
    },
    "20326108819c47549f836d8974949ef7": {
     "views": []
    },
    "233cc2e8a2584f37a1da18c7696d3ef5": {
     "views": []
    },
    "23460784317d4c76880be012f8bf3885": {
     "views": []
    },
    "24a5a094a17a4e3d9b12973573943925": {
     "views": []
    },
    "264e6a0b8ea64872bc5f4ad7b5ea1d03": {
     "views": []
    },
    "269bf69d1915470a869ec84c34fe82ca": {
     "views": []
    },
    "28060e3dfd2c4ae1909f2d5009929e90": {
     "views": []
    },
    "28f10dbca34b483a8de5c4904dc4177f": {
     "views": []
    },
    "294d6217b0c748488cba8a18d098192e": {
     "views": []
    },
    "2974180ce692471c8eb2f17dbd1f9574": {
     "views": []
    },
    "2a0f5b7742db42b48cf80c4f33db42ed": {
     "views": []
    },
    "2a14810150434eca9b22413e31b55fa4": {
     "views": []
    },
    "2a71d4fd2af14a00a3c621ade1297394": {
     "views": []
    },
    "2c0837346152446f9a52530d0911bd36": {
     "views": []
    },
    "2c8f2af54f95477caa6e0df51513fb4b": {
     "views": []
    },
    "2cf80e00f7db4f20bb7652fc9c3d671a": {
     "views": []
    },
    "2d9953a691d74808b2df76debb0d0275": {
     "views": []
    },
    "2e3a6bfc0a3a47a4a5b0fce2eca690e1": {
     "views": []
    },
    "2e62e1d5c64d46ff91c8e0351b769128": {
     "views": []
    },
    "2f4948681fbb431799691cd2a23237f7": {
     "views": []
    },
    "2fd83cdf73294f28818c58bfb932e42a": {
     "views": []
    },
    "30181fce2e554fa89e21741b3f84f8e7": {
     "views": []
    },
    "306164042aaa4132a756b2572436bbb3": {
     "views": []
    },
    "3110f08f5dd64f31a06cc02727cf2f84": {
     "views": []
    },
    "311f8bf6324f4207849d87ff1a185036": {
     "views": []
    },
    "31f9520cb18841f2810c61146901e22f": {
     "views": []
    },
    "31fca3783ec0470d9672ff90092920e7": {
     "views": []
    },
    "33e7f65e6cbf47ee90313e791aaaa54c": {
     "views": []
    },
    "340627d7aad042bd95df4aefa976a104": {
     "views": []
    },
    "34df6ff761b24ebc9bed4c13242ae1ce": {
     "views": []
    },
    "37a417a995f349548646d062fc1c8798": {
     "views": []
    },
    "383a6c1da2174b1d83543f14d10fe029": {
     "views": []
    },
    "38bf4ecfd4274042b553a6732e085d0b": {
     "views": []
    },
    "39ba8fa39ecc42b2ba324996cff9ca35": {
     "views": []
    },
    "39e3e30aeb70418694281a26a381ebd4": {
     "views": []
    },
    "39f405914d5344d3bca4cb393919132c": {
     "views": []
    },
    "3b888f133d4e44aaab02965a01023dfc": {
     "views": []
    },
    "3e1789f35ea24c1c9e6ce9ad8ef188d8": {
     "views": []
    },
    "400dce044d87483e9993da1fe83cf63f": {
     "views": []
    },
    "40e9af40ca54411faae92cba7312e89f": {
     "views": []
    },
    "412666a4c3b84697b3693816d24e8e9e": {
     "views": []
    },
    "413f4581fcc24bb780a9844711f99566": {
     "views": []
    },
    "418d8c68599e4c50af56e9fe73da5247": {
     "views": []
    },
    "42172cdc81a34195af178d2863966b6f": {
     "views": []
    },
    "423557be773244d4b3d42d6c611bc22b": {
     "views": []
    },
    "42b169053908437684b33fc33f3358e8": {
     "views": []
    },
    "4359e9358fe6486ea28e7ad012f5d698": {
     "views": []
    },
    "4390860d9204464aac9ec8f1e850e67c": {
     "views": []
    },
    "43b2a621f61645b587ed8f2cf5990d5d": {
     "views": []
    },
    "43f2046f083f4725a5eef703645ad6e2": {
     "views": []
    },
    "443b2e434e6141fca07eef164f350b55": {
     "views": []
    },
    "44d45ade7b9a419b889239537e98fa36": {
     "views": []
    },
    "4597ab58d56546d38ce666377be7ba7e": {
     "views": []
    },
    "4637c35dfcc94346b7516391ba9542b5": {
     "views": []
    },
    "4786efe3577849388f6c322f363a86f0": {
     "views": []
    },
    "478c06491f8f447e8fdffc357bb27769": {
     "views": []
    },
    "489146493dde41768b46efcabe935750": {
     "views": []
    },
    "48a3bb4b021b4a7eaa09512f6bc4fad8": {
     "views": []
    },
    "49335d1e015e44bf81adfe8a7329cb87": {
     "views": []
    },
    "4a212944850349a38ac38eb5e2dc16f2": {
     "views": []
    },
    "4a7fa66791a647aa9a69ada884693c11": {
     "views": []
    },
    "4a85df39ea1c412ebbbd14f1aae4b245": {
     "views": []
    },
    "4ab12eeac42c4624845a593d069219e2": {
     "views": []
    },
    "4b2d54974e95434aa9d4c5963120efb0": {
     "views": []
    },
    "4cdddabe9df843c6b68e8f6189e1c963": {
     "views": []
    },
    "4d6e9dfe22cd4d65b9807bc4405ab940": {
     "views": []
    },
    "4d92172dc06e4deb8daba0ab3286509e": {
     "views": []
    },
    "50329988f0b5452894ddac06202100fe": {
     "views": []
    },
    "504a36bee182468887369a773e362371": {
     "views": []
    },
    "505bcdc27b4d42a49cb2baabdb0fd6e7": {
     "views": []
    },
    "51fe6ab97f714c03ba1e0adff1c584d1": {
     "views": []
    },
    "523b0733ae5d4dccbebfc2f76bb05e13": {
     "views": []
    },
    "52ff0588a3474ad7b5e866fe0501d06a": {
     "views": []
    },
    "532abbed92da4824b7713e78f2b10411": {
     "views": []
    },
    "5357c76c73ab451ca09264a3d068ed34": {
     "views": []
    },
    "53ab7a0c4a89431798dda7a41f1b6d4a": {
     "views": []
    },
    "53c43282a5034d0d9561ef6bb82f7344": {
     "views": []
    },
    "5496202a281b42bc98e6c319096508f3": {
     "views": []
    },
    "55e2cf2602db472fbfc538c481326b5d": {
     "views": []
    },
    "560eb9db24b545e0bfc46af6defd8210": {
     "views": []
    },
    "56d5e2487e1149aeb32c1779110c721c": {
     "views": []
    },
    "57aedeb49e7d41abbc467f12f26b617b": {
     "views": []
    },
    "5880607a073e476cad0ec7082d033aee": {
     "views": []
    },
    "59429ef1b9b14d78808550551b99f04c": {
     "views": []
    },
    "595e18ec2d3344d3a37264c86a601587": {
     "views": []
    },
    "5d224711b56440a6bc698580aec63dc6": {
     "views": [
      {
       "cell_index": 0
      }
     ]
    },
    "5daacf9c8dee44cfac8b73162bd24568": {
     "views": []
    },
    "5eb6a4bdd2d64c6db9eb7398c44f1fba": {
     "views": []
    },
    "5f99472baf5f4043a73605b966571d61": {
     "views": []
    },
    "5fc002c090804108ab03242dcf475ac9": {
     "views": []
    },
    "5ffce0212ade49d48e4e486f7971ba54": {
     "views": []
    },
    "605647f6040847a49ffad4fe86b17960": {
     "views": []
    },
    "625e8bad7a124cf48a9ab639ce6d575f": {
     "views": []
    },
    "6276091e2b9648e7a6a93f8bbb88907a": {
     "views": []
    },
    "627756c7a4fb498faf4861b1a8498b7e": {
     "views": []
    },
    "62b823766ae940daab73264977272e78": {
     "views": []
    },
    "65852f5a01634db29e31d60f69ecb5ee": {
     "views": []
    },
    "6722c75cfb484e16898333963348bc6f": {
     "views": []
    },
    "67dcbc5ca398494c8c07b8ba05433e96": {
     "views": []
    },
    "69b8b6c4e0194411a441cb6978c31753": {
     "views": []
    },
    "6a092bbb511b4bc49faf5c4a3e6f6287": {
     "views": []
    },
    "6b7bba120bbb49db8a55f28936ce8cbf": {
     "views": []
    },
    "6b94bb0bed0045cb9a98406c5c143ab2": {
     "views": []
    },
    "6bcc1b86d44d4305aa95d2fdde0a8c35": {
     "views": []
    },
    "6bff075656644822b165c060200f95da": {
     "views": []
    },
    "6c3bc79a5b1d4e6ba1ea1e34709a1331": {
     "views": []
    },
    "6de2bfbd1bb3484cbdc4f8ea4f2203ce": {
     "views": []
    },
    "6ec1ec839970420f94cadb638a877a9e": {
     "views": []
    },
    "6f54833518cb465bbdd29263df384b0c": {
     "views": []
    },
    "70ceaf2d9f8740ce971eb1d5b4fcfab7": {
     "views": []
    },
    "70e35f91e17b4dcea479cd045b7583b5": {
     "views": []
    },
    "70fbfdc445874934bc4389fd81a35e85": {
     "views": []
    },
    "710b41f677a244488da1c13cd798b28d": {
     "views": []
    },
    "71302bc91f7547fd9dbd08f22bd1bd65": {
     "views": []
    },
    "715c980e9505495fa161eae330679c5e": {
     "views": []
    },
    "71ac62c92f9d4b0c9c51898b310b05b2": {
     "views": []
    },
    "72251524ece44576a81c283a64adb1de": {
     "views": []
    },
    "729af14c8f14429ca55f20db7609d09d": {
     "views": []
    },
    "72f016bb480542adb5bb599ab71a3200": {
     "views": []
    },
    "7302305e5be1409da945ff0a51c632da": {
     "views": []
    },
    "74c69a33b7414a72becc9b6e027d2408": {
     "views": []
    },
    "75240bd51d7941e091905010427f2805": {
     "views": []
    },
    "7542e3ca706b4342b589b9906e38ff89": {
     "views": []
    },
    "7544c5eb6ef14399ad2e80eb66b0609e": {
     "views": []
    },
    "775d88ad98f84cc3ae10a9cb48ae0ffa": {
     "views": []
    },
    "78d8028b0b7b4836b9760e0a58f980a2": {
     "views": []
    },
    "799c02ce01174779ba7b9b84a5a6e2b4": {
     "views": []
    },
    "7afe479ca2624ecbae6a981632975c91": {
     "views": []
    },
    "7b323540e537402b84f1406a4f230d7e": {
     "views": []
    },
    "7b6cea6110e240bdbe92fb6eb09d050c": {
     "views": []
    },
    "7d9eb9c20e9e4a94aabc4947e041081e": {
     "views": []
    },
    "7dac4eb2fd5b4c62b2bc7ba63e65d94c": {
     "views": []
    },
    "7e74508fa9704f13ad76112ab660b894": {
     "views": []
    },
    "8078a851d8af4c65bc171651b2cbe3f3": {
     "views": []
    },
    "80fef4e358a8416788eab4b0f78c584c": {
     "views": []
    },
    "813684e306f94938914e0e9f6802e557": {
     "views": []
    },
    "8284c88a4d964271ac9292825b359e0b": {
     "views": []
    },
    "8286c2e655c74d089c174b3b419e0704": {
     "views": []
    },
    "83a1b1604dc141fbabaeef9882fdd449": {
     "views": []
    },
    "84a1fc147ed14dac98be8cc8b962ac2f": {
     "views": []
    },
    "8573d50976ea40b48a1c2c7ef157ed27": {
     "views": []
    },
    "85d7379c099a4783a0e523fa0ba36ca6": {
     "views": []
    },
    "8765864437b54a8dbf71c1e35860d2c3": {
     "views": []
    },
    "87b24b30c46e4d2c82da1ce3d712ee59": {
     "views": []
    },
    "8840b56aaf2d41ed936490bb6b5aa1af": {
     "views": []
    },
    "8926776579154d15a83ba9dfe09b2ef4": {
     "views": []
    },
    "89299a8c968c4c89899ab681e3ea6807": {
     "views": []
    },
    "894e539653834e63ae17f2d51d75d018": {
     "views": []
    },
    "89c0fa9d740f416d9880796ef9402c1b": {
     "views": []
    },
    "8a4b9023c6f4483ca717c73967eea5bd": {
     "views": []
    },
    "8aa24f24404a4988abcf7c9275b3c5d3": {
     "views": []
    },
    "8af0894c5cae4016bfb39ab5598ebec3": {
     "views": []
    },
    "8b62d3b59a6e468ab7143521592a951f": {
     "views": []
    },
    "8bdb07f3eb1f41f780605f1811c77724": {
     "views": []
    },
    "8c43bca9298d4f5d9135dd64964d599b": {
     "views": []
    },
    "8c4c7409f8944341a2de9b5b516992d7": {
     "views": []
    },
    "8ce1508b1fc14e45882e100aa3436929": {
     "views": []
    },
    "8d0d148f476942cc969635efb5482647": {
     "views": []
    },
    "8d7ce605127f4e06b4664b80cb774573": {
     "views": []
    },
    "8e744bb9ef5c4789ad95611f0e3b9358": {
     "views": []
    },
    "8e90cab337a049e6ba58c896edf8e52d": {
     "views": []
    },
    "8ead69bde604490bba19df8b4b29cbd9": {
     "views": []
    },
    "8f87abd8864d4d83beb75bd428972a80": {
     "views": []
    },
    "90154f466267424bb1d3e0bdb70ac11c": {
     "views": []
    },
    "90a58b5a03444fa19120498fe7f69949": {
     "views": []
    },
    "90ac662da5bd41f78d38930d86b3a1f7": {
     "views": []
    },
    "90f75670d6c540b5bf24cd2f6fcb7b11": {
     "views": []
    },
    "9174b8e8fed74b058196962054b3ed0a": {
     "views": []
    },
    "91c06bfc1c1a439d95b42d87ae47c9bf": {
     "views": []
    },
    "91daea965f3549189acc475f2ea8fdfe": {
     "views": []
    },
    "92428c68452b4dda940fbbc457758a2c": {
     "views": []
    },
    "929ac8add3544e678a7483d085133a32": {
     "views": []
    },
    "93379c2620db44b586fbf194e7727423": {
     "views": []
    },
    "93dd6407d8ce498fb59110c06096ea86": {
     "views": []
    },
    "95b340e95bad4955a0953df8eaa83af5": {
     "views": []
    },
    "961c8f808ade4bf08409c2ecdf9997b4": {
     "views": []
    },
    "96289fd9d4b740ba8caf415eddf87955": {
     "views": []
    },
    "96b48f1c40ce499e9cda500881d76350": {
     "views": []
    },
    "9737ed9e503540b691887451cfc10589": {
     "views": []
    },
    "97d2a72fd6f1456780f370446391cfd9": {
     "views": []
    },
    "9899f25517164ab488a4b54166c2ab6e": {
     "views": []
    },
    "98a5552cfd71419c9e55e526204ab672": {
     "views": []
    },
    "993890b0053046dab94a702082d1fcec": {
     "views": []
    },
    "998ac7249f50426696a3a57faee30ca3": {
     "views": []
    },
    "9a4d671f771a44358923fec5b4474e88": {
     "views": []
    },
    "9a8529909cc64257a3ffeedc2f557f66": {
     "views": []
    },
    "9babe79cfc38422198e13921be0188e6": {
     "views": []
    },
    "9bce40bf303a49549a1f4f321fe525d9": {
     "views": []
    },
    "9d876395997f4a9d9a18380d3ca411d4": {
     "views": []
    },
    "9e324a6469114d98802090b60a649a5d": {
     "views": []
    },
    "9f17c6f5da334704b65098a2f6b390cd": {
     "views": []
    },
    "9f3db31b8bf9401eb73a737d80337805": {
     "views": []
    },
    "9f6f59ef6c37460bb2cf29605f59857e": {
     "views": []
    },
    "9fc52d10f78d455eafcdf995bb5bcb26": {
     "views": []
    },
    "a0a394669f9b41f9963a2b0bd690dec7": {
     "views": []
    },
    "a1fe7c4f5ff6460bbb3a5064c2d2795a": {
     "views": []
    },
    "a234d724bba64fe0a4c9a322ed56bb44": {
     "views": []
    },
    "a2f16bdcbd3144e7bf13504cb5f838f7": {
     "views": []
    },
    "a33ae25be9134211a05991b24ceaa097": {
     "views": []
    },
    "a3746878e62249e0b87ff54311700e7e": {
     "views": []
    },
    "a3c3912ed52649b9bc1aa1b4f19b8f26": {
     "views": []
    },
    "a507cc707a0e452cad211224dc5d1dab": {
     "views": []
    },
    "a6023eeedbec45e9b7b4b861f15b3f67": {
     "views": []
    },
    "a6314407841d4b5c9e7a1d379dad27fe": {
     "views": []
    },
    "a65fe1788a3d4538b74113998724cd63": {
     "views": []
    },
    "a73321d1c60c45acb71ce71818c5d9cb": {
     "views": []
    },
    "a75ceb8c5d374d088858942f8d782c44": {
     "views": []
    },
    "a76729860e904ccdb1b4f6d26ee80fdd": {
     "views": []
    },
    "a8616905a88c4efea37402f72cecea60": {
     "views": []
    },
    "a993ecb73c49469191e86b9e6156de2b": {
     "views": []
    },
    "ab4aaceb2e724040b577c602c2594e3a": {
     "views": []
    },
    "ab91a52e743848f18171518e2eb52bac": {
     "views": []
    },
    "ac29782ca6e1422595382e93f49fe99a": {
     "views": []
    },
    "ac841639636c464897930ed95c40d02b": {
     "views": []
    },
    "acda6fc6245844f8949d2bed2a1fc343": {
     "views": []
    },
    "ad239b58fa1f4b9bbbffbf37b9d22d15": {
     "views": []
    },
    "ad60d28ce6434d1ba28e31a8242a4dbb": {
     "views": []
    },
    "ad7f1f1abcd1412c8d0a270a952b8c40": {
     "views": []
    },
    "adc9743d622f4ddbbb119972ae312974": {
     "views": []
    },
    "af43626dd35b4086a527a2be315f6832": {
     "views": []
    },
    "b097b346bee442258d655bfd884dced5": {
     "views": []
    },
    "b143824ca6c7431db7b3f480df60d17b": {
     "views": []
    },
    "b2625f738a7e42608e55d26a69db159b": {
     "views": []
    },
    "b336085a96c54736b08ff41b00c3db9b": {
     "views": []
    },
    "b5228152353c4515b2a1676b8eb52666": {
     "views": []
    },
    "b5e62bf64e1c4260ae4a3275a60b5793": {
     "views": []
    },
    "b6e8d474766e406ca7ea74929b0c48e1": {
     "views": []
    },
    "b6e9376ac8a242a8b61a856a1151363c": {
     "views": []
    },
    "b6fdb785ec4a4636a93eac7625cc0ae3": {
     "views": []
    },
    "b7f87c5484a046ada0189dcd3f553034": {
     "views": []
    },
    "b935353bd2764baab5c3ca24242dde17": {
     "views": []
    },
    "bb3cb5d8d47045c493642ff5914de6e6": {
     "views": []
    },
    "bb829e9425244f87bc1337c7a0c35690": {
     "views": []
    },
    "bc92642b2e6e457898bc2a63c0bd5740": {
     "views": []
    },
    "be1f2f826e644b7987ee2828fc683f9d": {
     "views": []
    },
    "be6278fdc96e4d4782d8747332d0683b": {
     "views": []
    },
    "bf8760470aa342f4a310e5044fa44eb8": {
     "views": []
    },
    "c02828bf9613413ab05ff580dd82c279": {
     "views": []
    },
    "c082d61607eb46ac98920def5ea16893": {
     "views": []
    },
    "c245609c82634396b496c5139a770e93": {
     "views": []
    },
    "c2c3c6a497fb457298608e10399be3c4": {
     "views": []
    },
    "c40fbc0ec8b3450bb6e9d3a00378f67e": {
     "views": []
    },
    "c5ca0ae9729742b6b51f8106a3ba393a": {
     "views": []
    },
    "c5e3983a8a974cd288f833947413c310": {
     "views": []
    },
    "c5ebbc2b32e34973a127b39f28014131": {
     "views": []
    },
    "c5f82d5ea1f84c059995541d77ea12ea": {
     "views": []
    },
    "c6ca0993b0fb4340bb9e1b474bbefbe4": {
     "views": []
    },
    "c75965e2714d4c35a749c8f2abfc05f2": {
     "views": []
    },
    "c7a2e46569c2451c809f8fc8eb5a3110": {
     "views": []
    },
    "ca16a8d0b2864211abeb04e4b4b84fb0": {
     "views": []
    },
    "cae648e6c0e24b77bc7a98bc6c87f0ea": {
     "views": []
    },
    "cb2cb68714e9442485d90baf2b6a035c": {
     "views": []
    },
    "cb73ba8ea35b471395f918e50398430b": {
     "views": []
    },
    "cc0d6b54ee6648f3a9623ce72f04b0bf": {
     "views": []
    },
    "ccbaa1b7d12f452887447c22f8d72eec": {
     "views": []
    },
    "cd3397555aed4258adb52310a0e90c67": {
     "views": []
    },
    "cda9fcd8d27045aea3d0d25494fb3f7a": {
     "views": []
    },
    "cdffc12a3bdd45ccbc524788614b308a": {
     "views": []
    },
    "ce3b94ddb0f84fe9affb47890b39126c": {
     "views": []
    },
    "ce8ce5f6441649e89fb6a4a7c9ee2fbc": {
     "views": []
    },
    "cf670d2dc97e42a8bf26e3a69fbbaed4": {
     "views": []
    },
    "cfb9f8dfd25c497eb04d021431229649": {
     "views": []
    },
    "cfea8bad5768408ca04e6a5c9487a326": {
     "views": []
    },
    "d0d32098b3f24ad5876e958247178d52": {
     "views": []
    },
    "d0fc9d8664104ccdac9e67582ff6f74b": {
     "views": []
    },
    "d10fa2b5065f448f911c943a628b4d0f": {
     "views": []
    },
    "d11d1df2e8f74e0c9313fdc3ccbaa9d8": {
     "views": []
    },
    "d2a13aadd4a042e1a8fe07763bb919cb": {
     "views": []
    },
    "d2c8f5fee8f9416994c019f0abd85df4": {
     "views": []
    },
    "d2e14ea91c6c43c98666edc213f30e6f": {
     "views": []
    },
    "d39ad1bb5c2444078509f1f8da700b29": {
     "views": []
    },
    "d3f5c6683354490b8622c562f093d853": {
     "views": []
    },
    "d3fcb1a851034e58a8cdb376f4371c15": {
     "views": []
    },
    "d567f833592147b0b66cb32d3e87691b": {
     "views": []
    },
    "d653fff5f1ed4b84a8b98020e6ecd0eb": {
     "views": []
    },
    "d6bc751d900a4796af3719e6d6e33a04": {
     "views": []
    },
    "d8bb57cc92a442f694aaf503e1a68ceb": {
     "views": []
    },
    "d99b02f8266649d78973c0a30365ece5": {
     "views": []
    },
    "db0713434316471f9f9152fb9cb73f8a": {
     "views": []
    },
    "db1be2de0a814c929fb32bce4537432d": {
     "views": []
    },
    "db2714b336a449a79a190a467aa49374": {
     "views": []
    },
    "dbd7dba000fb492487cd8cbe57065d01": {
     "views": []
    },
    "dbfa066416104ac9862e1ec2fb50f41a": {
     "views": []
    },
    "dcce17ea6a104398aa6172b554c24546": {
     "views": []
    },
    "dd2e4a5b07de4341b4b4275de2d2e9b5": {
     "views": []
    },
    "ddf42f57876c4ab38ceeb06f2d6573f1": {
     "views": []
    },
    "debcaf4cf3c7481fa04a7153e09e70cc": {
     "views": []
    },
    "df04e53f7c9440ea810d928938cfb171": {
     "views": []
    },
    "e02e082328814667a1fa0437bfc1a1c3": {
     "views": []
    },
    "e1233ea48fed4dab8154a31635176ce7": {
     "views": []
    },
    "e13e6f1b868f4f4e862751e6c617fc6e": {
     "views": []
    },
    "e1ff1ba9d8264025b24f74a5dfb7254f": {
     "views": []
    },
    "e22a7fba56094f358d3daeadf8363e6c": {
     "views": []
    },
    "e557ea2ff84048c19028863072bdb3a4": {
     "views": []
    },
    "e6e859ba9e21439caf5183025c75a281": {
     "views": []
    },
    "e705691f66eb4717a0112e2f4f78694b": {
     "views": []
    },
    "e794ff292a204ffd88c3a53d2d1435e6": {
     "views": []
    },
    "e7c8a719a7954562a5171ed1864c15db": {
     "views": []
    },
    "e87348766a504012b3694dfd97e7c597": {
     "views": []
    },
    "e980d15d84bc4209af54ff1d45a67bb4": {
     "views": []
    },
    "e9c677836fa34f1cb0992da55032fd8a": {
     "views": []
    },
    "ea77a570be2347bdb92ab7c968928ccf": {
     "views": []
    },
    "ec926abf702c4c76a38572bceabce7e3": {
     "views": []
    },
    "eccc58a8e18b45618db3c3c4dfbbf3fc": {
     "views": []
    },
    "ece033eeed984a5f923d111d7b118c1f": {
     "views": []
    },
    "ed0ea0e471d04c3ebc270564c884f815": {
     "views": []
    },
    "ed152e893ffa4260850ad979825558ad": {
     "views": []
    },
    "ee0419d066a947649619e925cf36da50": {
     "views": []
    },
    "ee8f0e49cd2d4c74ad09903bd8a4c7c7": {
     "views": []
    },
    "ef9b17ff818e46e1bc3aac6f4d64d204": {
     "views": []
    },
    "f02b0899abb14789b761c958039557bd": {
     "views": []
    },
    "f284a934ef1d44c59abb3204102de9e0": {
     "views": []
    },
    "f2864f403730460ab319cda807ab2466": {
     "views": []
    },
    "f3ba005e07ad46609adfa35c23e360e1": {
     "views": []
    },
    "f42f6715db3848e1a7debdf215582628": {
     "views": []
    },
    "f471127a977a42499def9e7114c08af4": {
     "views": []
    },
    "f51dcbfb6ca14ae5a105f36a5d297168": {
     "views": []
    },
    "f5a72157d5034ed5ae3cf22383cf6eac": {
     "views": []
    },
    "f6a789de47714bd593d6e7e5dab78b0c": {
     "views": []
    },
    "f6d8f166193f48d280dee7631d7e49e0": {
     "views": []
    },
    "f6e98834d1864458931e9e9faa31e83e": {
     "views": []
    },
    "f75a96578529460fa0f6ffe74367d9fb": {
     "views": []
    },
    "f77e9e76446245ac888a9e1809e58ce8": {
     "views": []
    },
    "f7a87f87fedc42918c9340bddfef07b8": {
     "views": []
    },
    "f82e8bfab6d04a7eb179e62893f5b599": {
     "views": []
    },
    "f8672ded4eaf4d1aba027def27ac7d99": {
     "views": []
    },
    "f888a444243e444299f86339c63672ba": {
     "views": []
    },
    "f97f4898dcfc41cc8c928eeccb8009e3": {
     "views": []
    },
    "f99eb626016e40d48a9f07dddfb231d6": {
     "views": []
    },
    "fa1cff9d36744faf8a82e7c2801346d4": {
     "views": []
    },
    "faec7d8daaf34395bf4c812051187dd0": {
     "views": []
    },
    "fb95ec9d4631453dba6d75d19029f0fd": {
     "views": []
    },
    "fbd3d0dba4c44a37b7d4b92d2bb76e6a": {
     "views": []
    },
    "fee0a7e2191b4edd899488e5cce2540b": {
     "views": []
    },
    "ffbc5ce8b210433a9571df6bbfce2e2f": {
     "views": []
    }
   },
   "version": "1.1.2"
  }
 },
 "nbformat": 4,
 "nbformat_minor": 0
}
