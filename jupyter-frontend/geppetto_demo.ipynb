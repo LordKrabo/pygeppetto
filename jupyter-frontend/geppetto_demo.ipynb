{
 "cells": [
  {
   "cell_type": "code",
   "execution_count": 6,
   "metadata": {
    "collapsed": false
   },
   "outputs": [
    {
     "name": "stdout",
     "output_type": "stream",
     "text": [
      "The autoreload extension is already loaded. To reload it, use:\n",
      "  %reload_ext autoreload\n",
      "aki\n",
      "(<GeppettoLibrary.ComponentWidget object at 0x7f7fd1074278>, {'event': 'blur', 'data': 9})\n",
      "clicking\n",
      "8.0\n",
      "8.0\n",
      "9\n",
      "(<GeppettoLibrary.ComponentWidget object at 0x7f7fd1074278>, {'event': 'blur', 'data': 9})\n",
      "aki\n",
      "(<GeppettoLibrary.ComponentWidget object at 0x7f7fd10748d0>, {'event': 'blur', 'data': 1})\n",
      "clicking\n",
      "1.0\n",
      "1.0\n",
      "1\n",
      "(<GeppettoLibrary.ComponentWidget object at 0x7f7fd10748d0>, {'event': 'blur', 'data': 1})\n",
      "reseting\n",
      "aki\n",
      "(<GeppettoLibrary.ComponentWidget object at 0x7f7fd1074278>, {'event': 'blur', 'data': 8.2})\n",
      "clicking\n",
      "8.0\n",
      "8.0\n",
      "8.2\n",
      "(<GeppettoLibrary.ComponentWidget object at 0x7f7fd1074278>, {'event': 'blur', 'data': 8.2})\n",
      "aki\n",
      "(<GeppettoLibrary.ComponentWidget object at 0x7f7ff1367710>, {'event': 'blur', 'data': -65})\n",
      "clicking\n",
      "-65.0\n",
      "-65.0\n",
      "-65\n",
      "(<GeppettoLibrary.ComponentWidget object at 0x7f7ff1367710>, {'event': 'blur', 'data': -65})\n",
      "reseting\n",
      "aki\n",
      "(<GeppettoLibrary.ComponentWidget object at 0x7f7fd10748d0>, {'event': 'blur', 'data': 1.5666})\n",
      "clicking\n",
      "1.0\n",
      "1.0\n",
      "1.5666\n",
      "(<GeppettoLibrary.ComponentWidget object at 0x7f7fd10748d0>, {'event': 'blur', 'data': 1.5666})\n",
      "aki\n",
      "(<GeppettoLibrary.ComponentWidget object at 0x7f7fd1074278>, {'event': 'blur', 'data': 8})\n",
      "clicking\n",
      "8.0\n",
      "8.0\n",
      "8\n",
      "(<GeppettoLibrary.ComponentWidget object at 0x7f7fd1074278>, {'event': 'blur', 'data': 8})\n",
      "aki\n",
      "(<GeppettoLibrary.ComponentWidget object at 0x7f7fd10748d0>, {'event': 'blur', 'data': 1})\n",
      "clicking\n",
      "1.5666\n",
      "1.0\n",
      "1\n",
      "(<GeppettoLibrary.ComponentWidget object at 0x7f7fd10748d0>, {'event': 'blur', 'data': 1})\n",
      "aki\n",
      "(<GeppettoLibrary.ComponentWidget object at 0x7f7fd1074278>, {'event': 'blur', 'data': 8})\n",
      "clicking\n",
      "8.0\n",
      "8.0\n",
      "8\n",
      "(<GeppettoLibrary.ComponentWidget object at 0x7f7fd1074278>, {'event': 'blur', 'data': 8})\n",
      "aki\n",
      "(<GeppettoLibrary.ComponentWidget object at 0x7f7fd10748d0>, {'event': 'blur', 'data': 1.7})\n",
      "clicking\n",
      "1.0\n",
      "1.0\n",
      "1.7\n",
      "(<GeppettoLibrary.ComponentWidget object at 0x7f7fd10748d0>, {'event': 'blur', 'data': 1.7})\n",
      "aki\n",
      "(<GeppettoLibrary.ComponentWidget object at 0x7f7fd1074278>, {'event': 'blur', 'data': 8})\n",
      "clicking\n",
      "8.0\n",
      "8.0\n",
      "8\n",
      "(<GeppettoLibrary.ComponentWidget object at 0x7f7fd1074278>, {'event': 'blur', 'data': 8})\n",
      "reseting\n"
     ]
    }
   ],
   "source": [
    "%load_ext autoreload\n",
    "%autoreload 2\n",
    "from RunControl import *\n",
    "showRunControlPanel()"
   ]
  },
  {
   "cell_type": "code",
   "execution_count": 50,
   "metadata": {
    "collapsed": false
   },
   "outputs": [],
   "source": [
    "from neuron import h\n",
    "h.load_file('stdrun.hoc')\n",
    "soma = h.Section(name='soma')\n",
    "soma.insert('pas')\n",
    "asyn = h.AlphaSynapse(soma(0.5))\n",
    "asyn.onset = 20\n",
    "asyn.gmax = 1\n",
    "v_vec = h.Vector()             # Membrane potential vector\n",
    "t_vec = h.Vector()             # Time stamp vector\n",
    "v_vec.record(soma(0.5)._ref_v)\n",
    "t_vec.record(h._ref_t)\n",
    "h.tstop = 1000.0"
   ]
  },
  {
   "cell_type": "code",
   "execution_count": 4,
   "metadata": {
    "collapsed": false
   },
   "outputs": [],
   "source": [
    "from matplotlib import pyplot\n",
    "pyplot.figure(figsize=(8,4)) # Default figsize is (8,6)\n",
    "pyplot.plot(t_vec, v_vec)\n",
    "pyplot.xlabel('time (ms)')\n",
    "pyplot.ylabel('mV')\n",
    "pyplot.show()"
   ]
  },
  {
   "cell_type": "code",
   "execution_count": 7,
   "metadata": {
    "collapsed": false
   },
   "outputs": [
    {
     "data": {
      "text/plain": [
       "0.009999990463256836"
      ]
     },
     "execution_count": 7,
     "metadata": {},
     "output_type": "execute_result"
    }
   ],
   "source": [
    "h.t\n",
    "h._ref_t.t\n",
    "h.realtime\n",
    "h._ref_t.realtime"
   ]
  },
  {
   "cell_type": "code",
   "execution_count": 7,
   "metadata": {
    "collapsed": false
   },
   "outputs": [
    {
     "data": {
      "text/plain": [
       "<hoc.HocObject at 0x7fb9e4719f60>"
      ]
     },
     "execution_count": 7,
     "metadata": {},
     "output_type": "execute_result"
    }
   ],
   "source": [
    "h.StateTransitionEvent"
   ]
  },
  {
   "cell_type": "code",
   "execution_count": 7,
   "metadata": {
    "collapsed": false
   },
   "outputs": [],
   "source": [
    "h.stoprun = 2"
   ]
  },
  {
   "cell_type": "code",
   "execution_count": 30,
   "metadata": {
    "collapsed": false
   },
   "outputs": [
    {
     "data": {
      "text/plain": [
       "6.3454545"
      ]
     },
     "execution_count": 30,
     "metadata": {},
     "output_type": "execute_result"
    }
   ],
   "source": [
    "h.runStopAt"
   ]
  },
  {
   "cell_type": "code",
   "execution_count": 7,
   "metadata": {
    "collapsed": true
   },
   "outputs": [],
   "source": [
    "taka =dict()"
   ]
  },
  {
   "cell_type": "code",
   "execution_count": 7,
   "metadata": {
    "collapsed": false
   },
   "outputs": [
    {
     "data": {
      "text/plain": [
       "'5.3'"
      ]
     },
     "execution_count": 7,
     "metadata": {},
     "output_type": "execute_result"
    }
   ],
   "source": [
    "taka = str(5.3)\n",
    "taka"
   ]
  },
  {
   "cell_type": "code",
   "execution_count": 9,
   "metadata": {
    "collapsed": true
   },
   "outputs": [],
   "source": [
    "taka['lk']=34"
   ]
  },
  {
   "cell_type": "code",
   "execution_count": 10,
   "metadata": {
    "collapsed": false
   },
   "outputs": [
    {
     "data": {
      "text/plain": [
       "{'lk': 34}"
      ]
     },
     "execution_count": 10,
     "metadata": {},
     "output_type": "execute_result"
    }
   ],
   "source": [
    "taka"
   ]
  },
  {
   "cell_type": "code",
   "execution_count": null,
   "metadata": {
    "collapsed": true
   },
   "outputs": [],
   "source": []
  }
 ],
 "metadata": {
  "kernelspec": {
   "display_name": "Python 3",
   "language": "python",
   "name": "python3"
  },
  "language_info": {
   "codemirror_mode": {
    "name": "ipython",
    "version": 3
   },
   "file_extension": ".py",
   "mimetype": "text/x-python",
   "name": "python",
   "nbconvert_exporter": "python",
   "pygments_lexer": "ipython3",
   "version": "3.4.3"
  },
  "widgets": {
   "state": {
    "00c7a94d3f91418d9ca0cbf344b7b025": {
     "views": []
    },
    "0240fb5172584437b6ccb3447096189f": {
     "views": []
    },
    "025da29887fd4ec7a3e7616934cc2797": {
     "views": []
    },
    "03310f6fcfa9433ba8c41f9c89134f2b": {
     "views": []
    },
    "048d708c14e741389fa13f6ef8396b80": {
     "views": []
    },
    "04a548a1e6a34f5db1b5c032adc32535": {
     "views": []
    },
    "052ed4c5858e4de0b449c75f77d86b15": {
     "views": []
    },
    "05f99005bf9649f6bd5ac85ea51ccd5c": {
     "views": []
    },
    "067105ff61654ff0a78893d23f3dd0eb": {
     "views": []
    },
    "06f5300c13e441c495e27b769627b51e": {
     "views": []
    },
    "091ddd1441674500b09fbce6d5435a28": {
     "views": []
    },
    "095e1dddd2d64d469c7ee1cc0fdadb42": {
     "views": []
    },
    "0a7783fba89d4d64962e558db418ce34": {
     "views": []
    },
    "0c67f7b3c5c0400d8dcb6f44ac320897": {
     "views": []
    },
    "0ccdcadce95e4aaabef5c41312c4a604": {
     "views": []
    },
    "0d786b4c453a4af5bcb32afd08d7b971": {
     "views": []
    },
    "1089c5e87f264e38bb38676b9e132cd3": {
     "views": []
    },
    "118513f719fc442994a80faf73673a5d": {
     "views": []
    },
    "11b4f82996624c91a2a1f2ccdd8848f7": {
     "views": []
    },
    "155a90de23ec45a4aeee1f45ffdc9171": {
     "views": []
    },
    "1852bfb191b54046b86b73d13884b14c": {
     "views": []
    },
    "1b18105aeca44b9c8545e75e7c5b5047": {
     "views": []
    },
    "1b273e88e7b74d46a5d8b89847b89404": {
     "views": []
    },
    "1d519d9790e14e6a9c4dddf47d12c431": {
     "views": []
    },
    "1de4bfe533114ef88fc51fbd6ff0960e": {
     "views": []
    },
    "1f782c5f3fe240328c184e5f1452613e": {
     "views": []
    },
    "20880c1d13c8439db0e3cd87f8dd7d7d": {
     "views": []
    },
    "20f19f7961474361a20e5d7a9965f48b": {
     "views": []
    },
    "213ea1dfe68246b3a777f3f02addbb8a": {
     "views": []
    },
    "216ec4474d1a498193df2bcb416249c2": {
     "views": []
    },
    "2183b3a044a74d6da60680457c46f115": {
     "views": []
    },
    "2222c2963b414f58b21ccca0c2d8a298": {
     "views": []
    },
    "23b5919274e04d7483d9239d67203423": {
     "views": []
    },
    "2475ce9d50a7434dab638a58b4383d60": {
     "views": []
    },
    "2484f5e3c97049ac9b6486183142a516": {
     "views": []
    },
    "2657db3907ae4e9781b793254c1c324f": {
     "views": []
    },
    "27796844e56345b3a6029921ecbe1a6c": {
     "views": []
    },
    "286c0709e51d45608e10ba823814dc82": {
     "views": []
    },
    "29c3e08bb2ea4d738197ef5f9a3e7cd0": {
     "views": []
    },
    "2abce064218042c98ee67af0c192cc28": {
     "views": []
    },
    "2bfba98f0d3d45438d6a57c32d8cea40": {
     "views": []
    },
    "2cb5f4dc16e14285a43bbe8f6dc1f508": {
     "views": []
    },
    "2ce71141cb9240d58d13b7e9f803cda9": {
     "views": []
    },
    "2ea8d7a5e9b0437682bb00ac2b93c3dc": {
     "views": []
    },
    "2fc20c45a34b41ee930be3587ad84854": {
     "views": []
    },
    "302745064bc3454da66d75fc432ad40b": {
     "views": []
    },
    "32083d69bc38446ca63285bc852e72e5": {
     "views": []
    },
    "33584c0d50b349b5990bbd81951fce90": {
     "views": []
    },
    "354bcea5082540d9b69d0e62d6ed5121": {
     "views": []
    },
    "3556823591a54d37b005b06326a01239": {
     "views": []
    },
    "35e9ae0900824383b8d13b6282caaf52": {
     "views": []
    },
    "364533ee42b445bcbdb67a3bb17ea20f": {
     "views": []
    },
    "36d921aba41248a5ae6d617d6970c551": {
     "views": []
    },
    "370d04017aca433b9c70a1aec8b42b05": {
     "views": []
    },
    "38c3417f6b214d1094a45deb40562160": {
     "views": []
    },
    "39687969dab841379b8ab2eaa9670cd9": {
     "views": []
    },
    "3ae3a761c37447038bac9873d9f4e777": {
     "views": []
    },
    "3b78ece2cc3349cca052955c5929dc38": {
     "views": []
    },
    "3c311a7a695a4681bcb3731a7ed46fb8": {
     "views": []
    },
    "3c44d6a51b524b5b872fdffa9bb27bd4": {
     "views": []
    },
    "3d45c278d58e41fcb988cebdf934b43c": {
     "views": []
    },
    "3da8b3f81b1a49cd8abd6479ab725fd3": {
     "views": []
    },
    "3e4324fd32994aeebb7caf7fc0f24b4f": {
     "views": []
    },
    "3f0c091153424519a66c79ac204d1ee2": {
     "views": []
    },
    "3f1e79f4156848308874f3579b33b226": {
     "views": []
    },
    "3f4f7157c69d4f10a3222584ecb2114c": {
     "views": []
    },
    "413bf8ec9cdf4c47aaef969d4a61d076": {
     "views": []
    },
    "417d82a5fd494e759f081f2bb34774f2": {
     "views": []
    },
    "42044f1e88ab4e5f8fb69a55642cea7b": {
     "views": []
    },
    "4502c76f08d94ee68daa56d6ae023403": {
     "views": []
    },
    "452373bfe55e45e8b64cc9fc08bffd68": {
     "views": []
    },
    "45a41df397214ee08297216b5acdb9f8": {
     "views": []
    },
    "471d3f2e4904488d92f699d7b9169fd5": {
     "views": []
    },
    "47f2903f329b4964821b2972d517751d": {
     "views": []
    },
    "49bc508f6f2448119cd619612dc2bfac": {
     "views": []
    },
    "4abbfb32d90b4a6bbe4b75a84bbfd6f6": {
     "views": []
    },
    "4c6f4bdbf02449a18cf8982bf7d69f84": {
     "views": []
    },
    "4ca7ea28bac8419da31ef75bedc612cb": {
     "views": []
    },
    "4cc23c50f3a64870b26457b1af04475c": {
     "views": []
    },
    "4e03f443f06f423f970ef65fede380fb": {
     "views": []
    },
    "4ef640bd62a24e2da3d7e67a1cf526ed": {
     "views": []
    },
    "4f2959c89d574b42af48114d0c08d536": {
     "views": []
    },
    "4f9a9cf4796e4553816ba345537507de": {
     "views": []
    },
    "516e6dcee4a74d20982b5737cb2af40a": {
     "views": []
    },
    "51dc326fcb304cc5a7a35794b78de9ff": {
     "views": []
    },
    "5200ac3cffd647deb1f9d338182ef8a5": {
     "views": []
    },
    "533ade4593a245cbbe3fcb64864f3407": {
     "views": []
    },
    "53e354d87eb24136b2c470539be1017e": {
     "views": []
    },
    "563941baa6634817aab7315b90386498": {
     "views": []
    },
    "5898725e899c47faae183d583e127008": {
     "views": []
    },
    "5a8d5c28104741588fb4a3927d428b64": {
     "views": []
    },
    "5df29b7ca3ae429f9128f794023c860c": {
     "views": []
    },
    "5ede6462f1ba42b680a86e7475ff15fc": {
     "views": []
    },
    "5f592e964f0e401c91b9423e6a2e8c50": {
     "views": []
    },
    "60066d799a51446abd93a16d46faab23": {
     "views": []
    },
    "62bc92b8e1864bab8ceb76270e2bd52e": {
     "views": []
    },
    "639a33162bba43c993f5677d14cdf43c": {
     "views": []
    },
    "6425ba2e4e2546fe803049bc7659aaa6": {
     "views": []
    },
    "653ed13102fd4ce186dad950b9c81e30": {
     "views": []
    },
    "655650823c5e4f10a90017d9cc6250c3": {
     "views": []
    },
    "683782afee124f909d81f749f7f68f34": {
     "views": []
    },
    "68cdb2b60bfd42b89b3caea826038250": {
     "views": []
    },
    "69508726e29d4da4ad2663ce7780ce7c": {
     "views": []
    },
    "6a184a4c95484b27bee14cfc9cef58ec": {
     "views": []
    },
    "6bd500b4238f4d14b78a6a48718bc577": {
     "views": []
    },
    "6c2ab13a989345ffb31d61c08f8b2cd5": {
     "views": []
    },
    "6cb43b3605a14ccaa701f044a3eac0b4": {
     "views": []
    },
    "6ced298f2f1b450ca0010d98ef43ff0a": {
     "views": []
    },
    "6eac6e4f7d394408b4dcaade92dbe6eb": {
     "views": []
    },
    "7000d2b901ce402196ccffad983ff734": {
     "views": []
    },
    "7090864cd6ee47378057ab620fa3d7c7": {
     "views": []
    },
    "70ab995c17c1423a958a3318841753c3": {
     "views": []
    },
    "71230c31f7e543549f02eaad44e91a95": {
     "views": []
    },
    "7212903856d04fbcbfe1dc637617ec74": {
     "views": []
    },
    "738d055b347645d587a531aa573813e6": {
     "views": []
    },
    "73aa0ff9160543dea1b224b96ffb6a5b": {
     "views": []
    },
    "7411a3198f414eb2b67cd84f6c8ed698": {
     "views": []
    },
    "7503d9065b1242dbaec3a5038da70067": {
     "views": []
    },
    "751ad9162e914e0a90e5a40a61acec9b": {
     "views": []
    },
    "763498c6f1734427b1aa1fcf7eb6b39f": {
     "views": []
    },
    "76b701ef12c84989ba43683987a7e6ed": {
     "views": []
    },
    "778d53e6343d4a59a632ceac0c9d9e7d": {
     "views": []
    },
    "77bba57f7f0941258840cd72e0a2417c": {
     "views": []
    },
    "78192be8c90e44c7b7cf9394a2d49b6e": {
     "views": []
    },
    "79738f06209840fa9d6ddd609672357f": {
     "views": []
    },
    "79cdac3ad66844088116f1f6bcae2fe0": {
     "views": []
    },
    "7c6c47739a9d40f0adf4350515005a96": {
     "views": []
    },
    "7d960be49e994c7f8c87645a36278536": {
     "views": []
    },
    "7e8365a8781648cc807235e7199728ea": {
     "views": []
    },
    "7f7db9a79bfd4f478a759a16baba59ce": {
     "views": []
    },
    "80c1187c9058434b94e9b12461793707": {
     "views": []
    },
    "810d2b9076da41f7b3fa5d053e8e4c84": {
     "views": []
    },
    "8264e7c144ca449a8d6dffee3d01dd20": {
     "views": []
    },
    "82c83acac00c4b2d963f792c21d13fda": {
     "views": []
    },
    "83d3b817fc1949df988428c730ceb766": {
     "views": []
    },
    "844830d3f1104f1fa397b9ff84afd49a": {
     "views": []
    },
    "850e10013f894f3b8c6b0451803324b7": {
     "views": []
    },
    "86b41cc59bea411a9c538ef95abe9ade": {
     "views": []
    },
    "87598ba7f922430f864a1d6d0cc1cee6": {
     "views": []
    },
    "88846dc1932840bf984740d01046a9f1": {
     "views": []
    },
    "8c82eeedf8bc42de94392dc81f6a18dd": {
     "views": []
    },
    "8cffd4ad5caa4935bf5e8969cf191a36": {
     "views": []
    },
    "8da0ef890eae4431a1a39040d3c5d473": {
     "views": []
    },
    "8ea6aecc0cc64723b7eb82fe380ae3b0": {
     "views": []
    },
    "8eef3a9446cb4dd5aa9c1fa39d19c644": {
     "views": []
    },
    "90a1587e148840f1aa2bbbb0a8a57aed": {
     "views": []
    },
    "91636df0716245c498513508aaf66b4a": {
     "views": []
    },
    "943b2c15bb804e508bf7e7f82e16f830": {
     "views": []
    },
    "953828d1f6b44190adb72d2c0d0aa9cf": {
     "views": []
    },
    "96db2bf485aa4e9895815e1473e689b9": {
     "views": []
    },
    "9a5631e393424bd292f202eb167fe36b": {
     "views": []
    },
    "9ad3e450153d4e239441a4564764eef7": {
     "views": []
    },
    "9bc9c8e6f7624232b8d25d5deb2d9d15": {
     "views": []
    },
    "9cfe0a58e54a4ed091be2b840a31c043": {
     "views": []
    },
    "9f0de9b1801147d9924a815d61f7579e": {
     "views": []
    },
    "9f5329a7df694463902ec503bf8dc599": {
     "views": []
    },
    "9f550bcd81ff42658eb0e8bae2ee6306": {
     "views": []
    },
    "9f8a1e2d863d401c98e228363db74a5f": {
     "views": []
    },
    "9ffb7a50cede464b9171fc7df0317ae7": {
     "views": []
    },
    "a0bed1351b624d368678598b3fa33118": {
     "views": []
    },
    "a0fbd66da52245d690834ce9956fe94a": {
     "views": [
      {
       "cell_index": 0
      }
     ]
    },
    "a13597ca7a83407984666e79ea4dc806": {
     "views": []
    },
    "a1b0dfdf0fc4434e866121e9b85fcf42": {
     "views": []
    },
    "a50699edee324b96864203c88af54b33": {
     "views": []
    },
    "a56d735adc6040c387249faad28fd112": {
     "views": []
    },
    "a61602abd69f442dab7a9ba8ac71df71": {
     "views": []
    },
    "a7faf3e00088429e8e23f098538551a2": {
     "views": []
    },
    "aafdddd5108848aa92fc1c027211e27f": {
     "views": []
    },
    "abb2e29c793e43f0b7e227407c40c7a2": {
     "views": []
    },
    "abe62a0743ab4f33b9f4105b915e1679": {
     "views": []
    },
    "acd48baed1414237b625214edeffe741": {
     "views": []
    },
    "adbfb3b6fc5f4fbf84b76aa363558475": {
     "views": []
    },
    "afd54cb978ed42ad8e253050ffd5f63b": {
     "views": []
    },
    "b00e8a50f31e42469ca2fea42b3d8d36": {
     "views": []
    },
    "b23a9b613f3c45d48cc75cad0ed42ad9": {
     "views": []
    },
    "b27fd861833b42aea2fbffa5adb6a856": {
     "views": []
    },
    "b3aee5e689b84d9081f88331441166ff": {
     "views": []
    },
    "b5d10d959cff4e079a541defc5f02029": {
     "views": []
    },
    "b890c559efef4b09bf13e6841a1f3898": {
     "views": []
    },
    "b93b9277153b46d79c613fe448916e40": {
     "views": []
    },
    "ba6e17b1047c443bab926eb1208420cd": {
     "views": []
    },
    "baf6d4965b3e494a8d37b1afdae27e63": {
     "views": []
    },
    "bc318e50698b4e589a0c1cc20f1e8c38": {
     "views": []
    },
    "bc8c57bb57754d09bf2b29ed57dca131": {
     "views": []
    },
    "bd49c2aa05f44dc1a5ba067d4ccdd66a": {
     "views": []
    },
    "be005e1bcdcf4671a0a644d9c97a9b39": {
     "views": []
    },
    "bf612b7e11fb45ae91a006cef000af02": {
     "views": []
    },
    "c06c19aa240740cbaf492bae6895ca81": {
     "views": []
    },
    "c10d0406996640b7ac6269d54cc8d0f6": {
     "views": []
    },
    "c182f9eae008495e8103049761e588a7": {
     "views": []
    },
    "c346bbe8fc6d4c03918e9d6a804a8016": {
     "views": []
    },
    "c3ae2563ee5b4e93b7133036b4e0b6e9": {
     "views": []
    },
    "c3f7e699b1b44739bb05c9573f5853d9": {
     "views": []
    },
    "c43b54f397c049e58b0ea67fdbd14de7": {
     "views": []
    },
    "c4deb306173046d7ad94093af69ac580": {
     "views": []
    },
    "c594b04e719e405dbd8bee7340165cda": {
     "views": []
    },
    "cb80fceeb6f6409abbf45ed6ef7e6955": {
     "views": []
    },
    "cbbd5be3fba04f538ddf2ac09269954d": {
     "views": []
    },
    "cecbf76a22af465f8778463877647c48": {
     "views": []
    },
    "d43e579effaa45708a58da06d8b3fa7c": {
     "views": []
    },
    "d4cacb8ab92a4a669d50c67177418ffb": {
     "views": []
    },
    "d99ea4eda4af457ba91e2b1cc0000f25": {
     "views": []
    },
    "db78e6e19ac14557b71b64f9e906ae2f": {
     "views": []
    },
    "dee7f9be8eec424191109600e4c1516f": {
     "views": []
    },
    "df6128406d114e1595b62dbf8cd9221d": {
     "views": []
    },
    "e06b72b165c044b2aaf55b8b31d024d0": {
     "views": []
    },
    "e06ceb308cca4397b441387db85e93ea": {
     "views": []
    },
    "e07df09b450445d1aaeed752770af4b3": {
     "views": []
    },
    "e0aaf5e831c34d54920e91bb3a925b2a": {
     "views": []
    },
    "e172a163ec7c4fb7b10090a18dfbb6c5": {
     "views": []
    },
    "e2dc6d4b7d63476faaea936d129d0637": {
     "views": []
    },
    "e4a70d19c81642479eae36e40e22f517": {
     "views": []
    },
    "e7d6ef24927645b08c0c81bad60ca558": {
     "views": []
    },
    "e7fbba92e33042a582726ab4d272bdc2": {
     "views": []
    },
    "e94f5d11ca6c4913a8e332d0d9db9884": {
     "views": []
    },
    "ecdf174135504e839b685682572b7515": {
     "views": []
    },
    "edca4fe305c24a5a96d210b3ab0da2aa": {
     "views": []
    },
    "f04087d38fec4037ba6edfdcc7628861": {
     "views": []
    },
    "f06270d1017b4528b8847a08746b5769": {
     "views": []
    },
    "f10a335a8e8d4cb09edc23ea3d0f3a9c": {
     "views": []
    },
    "f1268961ea3e4de5b7880dad8d1c62e5": {
     "views": []
    },
    "f1803501896641b0b1c0e3e323ae494e": {
     "views": []
    },
    "f281f4d891564e60b346fb99131501e4": {
     "views": []
    },
    "f3d6351fb65546e3a783c4a2f98673f3": {
     "views": []
    },
    "f55c1df6eafb4567ae21fbb5b891b998": {
     "views": []
    },
    "f9262a3972ff47a589a597917d739cc3": {
     "views": []
    },
    "f98cd9fc2d384600b690163993ecf4af": {
     "views": []
    },
    "fbd5e70864ef46acb98411b46292de64": {
     "views": []
    }
   },
   "version": "1.1.2"
  }
 },
 "nbformat": 4,
 "nbformat_minor": 0
}
