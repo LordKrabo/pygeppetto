{
 "cells": [
  {
   "cell_type": "code",
   "execution_count": 1,
   "metadata": {
    "collapsed": false,
    "scrolled": true
   },
   "outputs": [],
   "source": [
    "%load_ext autoreload\n",
    "%autoreload 2\n",
    "from RunControl import *\n",
    "from LoadAndAnalysisPanels import *\n",
    "showRunControlPanel()\n",
    "showSampleModelsPanel()\n",
    "showAnalysisPanel()"
   ]
  },
  {
   "cell_type": "code",
   "execution_count": 5,
   "metadata": {
    "collapsed": false
   },
   "outputs": [
    {
     "name": "stdout",
     "output_type": "stream",
     "text": [
      "Loading Model...\n"
     ]
    }
   ],
   "source": [
    "from verysimple_cell import *\n",
    "#from simple_cell import *\n",
    "#from simple_network import *"
   ]
  },
  {
   "cell_type": "code",
   "execution_count": 6,
   "metadata": {
    "collapsed": false
   },
   "outputs": [],
   "source": [
    "analysis()"
   ]
  },
  {
   "cell_type": "code",
   "execution_count": 7,
   "metadata": {
    "collapsed": false
   },
   "outputs": [
    {
     "data": {
      "text/plain": [
       "0.009999990463256836"
      ]
     },
     "execution_count": 7,
     "metadata": {},
     "output_type": "execute_result"
    }
   ],
   "source": [
    "h.t\n",
    "h._ref_t.t\n",
    "h.realtime\n",
    "h._ref_t.realtime"
   ]
  },
  {
   "cell_type": "code",
   "execution_count": 7,
   "metadata": {
    "collapsed": false
   },
   "outputs": [
    {
     "data": {
      "text/plain": [
       "<hoc.HocObject at 0x7fb9e4719f60>"
      ]
     },
     "execution_count": 7,
     "metadata": {},
     "output_type": "execute_result"
    }
   ],
   "source": [
    "h.StateTransitionEvent"
   ]
  },
  {
   "cell_type": "code",
   "execution_count": 7,
   "metadata": {
    "collapsed": false
   },
   "outputs": [],
   "source": [
    "h.stoprun = 2"
   ]
  },
  {
   "cell_type": "code",
   "execution_count": 4,
   "metadata": {
    "collapsed": false
   },
   "outputs": [],
   "source": [
    "h.tstop = 80"
   ]
  },
  {
   "cell_type": "code",
   "execution_count": null,
   "metadata": {
    "collapsed": true
   },
   "outputs": [],
   "source": []
  }
 ],
 "metadata": {
  "kernelspec": {
   "display_name": "Python 3",
   "language": "python",
   "name": "python3"
  },
  "language_info": {
   "codemirror_mode": {
    "name": "ipython",
    "version": 3
   },
   "file_extension": ".py",
   "mimetype": "text/x-python",
   "name": "python",
   "nbconvert_exporter": "python",
   "pygments_lexer": "ipython3",
   "version": "3.4.3"
  },
  "widgets": {
   "state": {
    "06846fcd790544468f8dfddeda4360db": {
     "views": []
    },
    "07475285b81b4ee3a34ccc0d6c426dab": {
     "views": []
    },
    "16ad36ea265c422bb3aeb45b2a497044": {
     "views": []
    },
    "18ffce398bcc4446bfca06f1f38d2c48": {
     "views": []
    },
    "1e643f7a153d4fc3b8b859ab3892f721": {
     "views": []
    },
    "20fd47ee31ca4151815c95806e4f2d34": {
     "views": []
    },
    "2123de8240544b65a78a7f64bcd10346": {
     "views": []
    },
    "23df3a055b0a47bba2c294e45ac97b22": {
     "views": []
    },
    "2a48ca7935ee49d19907d2161b5db05e": {
     "views": []
    },
    "2b1e3251dbee4c29b72ac996fc54e910": {
     "views": []
    },
    "30bf95e7e66e4ec4bc550e48c7432704": {
     "views": []
    },
    "3364c0e8ee474f3ab71a8952d6637206": {
     "views": []
    },
    "3a0726f65bc44d99a0791e9aa2e08a94": {
     "views": []
    },
    "40f62d7cf4ba4be8982c8e64cd6398e5": {
     "views": []
    },
    "4aa031d306854cc6bd6fed7e69b2f277": {
     "views": []
    },
    "5d05b42df40e403ebe2c008892b047da": {
     "views": []
    },
    "613c80d8c0134cee8414706a955425f8": {
     "views": []
    },
    "616fbaf6d6f64a209978b1c0eba298c6": {
     "views": [
      {
       "cell_index": 0
      }
     ]
    },
    "61b331932b294746b95bdc449f162e01": {
     "views": []
    },
    "626ce906f8954340957ca8779404a7a1": {
     "views": []
    },
    "64b7d65cf6a746f39c982fbd410a01ed": {
     "views": []
    },
    "66cdaa90996c430f8a0741d1a973e4ec": {
     "views": []
    },
    "6d5ab4952eb447debf081069ee1f8693": {
     "views": []
    },
    "71a82ac4b5204d24a9378c07472144de": {
     "views": []
    },
    "7e11b2fd00fc4b7f8dabab1ed1077a77": {
     "views": []
    },
    "7e34556c2112435f9f42283f2e439db1": {
     "views": []
    },
    "7fb3d3c9c6e64756bcc0c112de5490aa": {
     "views": []
    },
    "859f688fc8ae45f89707cd438ef49c0d": {
     "views": []
    },
    "87713a215538459da5f2b6a3e1e28745": {
     "views": [
      {
       "cell_index": 0
      }
     ]
    },
    "88ef2cf4b5b64d79beb645613e70d51d": {
     "views": []
    },
    "94d1b40a580c4e8ca37516080a94d5e7": {
     "views": []
    },
    "98aa7d6488fa4922b618411856c48998": {
     "views": []
    },
    "9d09bb7bc83d4d12acbd64aeb455a63d": {
     "views": []
    },
    "a4b405195e7e4749b9ae9a7f48d813fb": {
     "views": []
    },
    "aded2334292542e999c3c4323e3e137f": {
     "views": []
    },
    "ae9c9cbcb4b64a0687794263a3a7198d": {
     "views": []
    },
    "b3822452e396416cac00cd9bea394c1e": {
     "views": []
    },
    "b4118fe9a5ba40ddbc759b7fa4bff816": {
     "views": []
    },
    "cd1ca3eeb76f4117a82ddeba21be5b0e": {
     "views": []
    },
    "db1085b2187f400594f86f24ec1f8aa9": {
     "views": []
    },
    "de236b5c394d493382fe54b842f4d3aa": {
     "views": []
    },
    "e4244a12d5e842689c45cd1f171c0f32": {
     "views": [
      {
       "cell_index": 0
      }
     ]
    },
    "ea3f8813d552445ea00e6368897acc05": {
     "views": []
    },
    "f431004726d44e6dbbe4177b5275fa4a": {
     "views": []
    }
   },
   "version": "1.1.2"
  }
 },
 "nbformat": 4,
 "nbformat_minor": 0
}
