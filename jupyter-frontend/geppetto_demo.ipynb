{
 "cells": [
  {
   "cell_type": "code",
   "execution_count": 6,
   "metadata": {
    "collapsed": false,
    "scrolled": true
   },
   "outputs": [
    {
     "name": "stdout",
     "output_type": "stream",
     "text": [
      "The autoreload extension is already loaded. To reload it, use:\n",
      "  %reload_ext autoreload\n"
     ]
    }
   ],
   "source": [
    "%load_ext autoreload\n",
    "%autoreload 2\n",
    "from RunControl import *\n",
    "showRunControlPanel()"
   ]
  },
  {
   "cell_type": "code",
   "execution_count": 2,
   "metadata": {
    "collapsed": false
   },
   "outputs": [
    {
     "name": "stdout",
     "output_type": "stream",
     "text": [
      "Created cell 0\n",
      "Created cell 1\n",
      "Created cell 2\n",
      "Created cell 3\n",
      "Created cell 4\n",
      "Created cell 5\n",
      "Created cell 6\n",
      "Created cell 7\n",
      "Created cell 8\n",
      "Created cell 9\n",
      "Created connection between cell 9 and cell 0\n",
      "Created connection between cell 0 and cell 1\n",
      "Created connection between cell 1 and cell 2\n",
      "Created connection between cell 2 and cell 3\n",
      "Created connection between cell 3 and cell 4\n",
      "Created connection between cell 4 and cell 5\n",
      "Created connection between cell 5 and cell 6\n",
      "Created connection between cell 6 and cell 7\n",
      "Created connection between cell 7 and cell 8\n",
      "Created connection between cell 8 and cell 9\n"
     ]
    }
   ],
   "source": [
    "#from verysimple_cell import *\n",
    "#from simple_cell import *\n",
    "from simple_network import *"
   ]
  },
  {
   "cell_type": "code",
   "execution_count": 3,
   "metadata": {
    "collapsed": false
   },
   "outputs": [],
   "source": [
    "analysis()"
   ]
  },
  {
   "cell_type": "code",
   "execution_count": 7,
   "metadata": {
    "collapsed": false
   },
   "outputs": [
    {
     "data": {
      "text/plain": [
       "0.009999990463256836"
      ]
     },
     "execution_count": 7,
     "metadata": {},
     "output_type": "execute_result"
    }
   ],
   "source": [
    "h.t\n",
    "h._ref_t.t\n",
    "h.realtime\n",
    "h._ref_t.realtime"
   ]
  },
  {
   "cell_type": "code",
   "execution_count": 7,
   "metadata": {
    "collapsed": false
   },
   "outputs": [
    {
     "data": {
      "text/plain": [
       "<hoc.HocObject at 0x7fb9e4719f60>"
      ]
     },
     "execution_count": 7,
     "metadata": {},
     "output_type": "execute_result"
    }
   ],
   "source": [
    "h.StateTransitionEvent"
   ]
  },
  {
   "cell_type": "code",
   "execution_count": 7,
   "metadata": {
    "collapsed": false
   },
   "outputs": [],
   "source": [
    "h.stoprun = 2"
   ]
  },
  {
   "cell_type": "code",
   "execution_count": 27,
   "metadata": {
    "collapsed": false
   },
   "outputs": [
    {
     "data": {
      "text/plain": [
       "120.0"
      ]
     },
     "execution_count": 27,
     "metadata": {},
     "output_type": "execute_result"
    }
   ],
   "source": [
    "h.tstop"
   ]
  },
  {
   "cell_type": "code",
   "execution_count": null,
   "metadata": {
    "collapsed": true
   },
   "outputs": [],
   "source": []
  }
 ],
 "metadata": {
  "kernelspec": {
   "display_name": "Python 3",
   "language": "python",
   "name": "python3"
  },
  "language_info": {
   "codemirror_mode": {
    "name": "ipython",
    "version": 3
   },
   "file_extension": ".py",
   "mimetype": "text/x-python",
   "name": "python",
   "nbconvert_exporter": "python",
   "pygments_lexer": "ipython3",
   "version": "3.4.3"
  },
  "widgets": {
   "state": {
    "0003eb5f99234d059821674a8bb14f8b": {
     "views": []
    },
    "01cbc327a0db4da988f28378a4495f41": {
     "views": []
    },
    "03478dc44ce54514a959f5a7d0c642fb": {
     "views": []
    },
    "040661822d114ea8ae75c9e268bd24f0": {
     "views": []
    },
    "05c9da38d1cf4a28ba5e842d1e4b62a2": {
     "views": []
    },
    "062aae6b1c4b4053bbc4479591682c2d": {
     "views": []
    },
    "09b0add29cec4c21ae10ecb8efaeeb92": {
     "views": []
    },
    "0a1b011ff36445c2ae9b08dfd07530e5": {
     "views": []
    },
    "0a1f4fed536b4336b610faa3342506c3": {
     "views": []
    },
    "0b4f6d543ec5494f9caf37362f4c27ab": {
     "views": []
    },
    "0be2ef88cd79409d9ae9cef0498d2218": {
     "views": []
    },
    "0c13c018625042e39d3217f2ba2dd175": {
     "views": []
    },
    "0e3e03ef024a418280fa089cbe43598c": {
     "views": []
    },
    "0eff22e1a64d4695bf4de838967870ef": {
     "views": []
    },
    "0f4f46ec38ff4032b2d4e1ef0619e965": {
     "views": []
    },
    "100e4f732f1d46dba060b32e331da53e": {
     "views": []
    },
    "10c67216e3b34913b798f722a92cc4a8": {
     "views": []
    },
    "11851ffdc69945b489e2989e9cc633a8": {
     "views": []
    },
    "11f8010ad834431eaf72085936ccdfe1": {
     "views": []
    },
    "12017527a006481c89b2dd6711ac1627": {
     "views": []
    },
    "141951b039a04cd7a9ed01c62a43ab7c": {
     "views": []
    },
    "1474c7b299d8436283011cce083f0281": {
     "views": []
    },
    "158b17d9f7da47dc97cfba36b4f4c761": {
     "views": []
    },
    "15c5a28f523e425e8853c8a36feea6ea": {
     "views": []
    },
    "166e3fffb71f470d836a3c860f64213a": {
     "views": []
    },
    "19b68ceff4ec477880223e83ffc052e5": {
     "views": []
    },
    "1afcd631f81944d59f91708dc569c7af": {
     "views": []
    },
    "1c3c4e312ed54cd389f266a7ef48ea1c": {
     "views": []
    },
    "1ce4cb4202dd4ab99770accace4ec772": {
     "views": []
    },
    "1d66df7ceb0743ffa4859a7964b8e984": {
     "views": []
    },
    "1fb2c5c7976e45bba9d4e19a601e7af2": {
     "views": []
    },
    "22a059060b1a4669823fb92f68bd8493": {
     "views": []
    },
    "22d5f387d6804afc9116ec0d59b93f14": {
     "views": []
    },
    "2386cfd13a234955895b69622d6005e3": {
     "views": []
    },
    "245f527a1961416798fa57d02070921e": {
     "views": []
    },
    "24a0dd3c27d84e1cb9bfea2882725d11": {
     "views": []
    },
    "24f84690866b43d894884a7808d884ad": {
     "views": []
    },
    "2616076629f341578b0cba8a866d17f9": {
     "views": []
    },
    "2788af81dc61453abf1d6ae81fa59f76": {
     "views": []
    },
    "2834fcb2bb1f4314b7891acad84015ee": {
     "views": []
    },
    "2bb6aa6ecc2f49dd9059bad53a7c4a6a": {
     "views": []
    },
    "2d7acd489423415fb2e3277abdee4685": {
     "views": []
    },
    "2d86828986554d16bbe437e3d92bac77": {
     "views": []
    },
    "2e52deb6ce3747f28b0358fdb512a7bc": {
     "views": []
    },
    "2e6faa5f21a843f2807f2a81e21fb338": {
     "views": []
    },
    "2f93d53364854889a62087db277ce77a": {
     "views": []
    },
    "3066460900ff49039968196c3b296f96": {
     "views": []
    },
    "306817bea50c4c50bb531000918e851b": {
     "views": []
    },
    "334399afb3df43329435195fa391a427": {
     "views": []
    },
    "346836cec5a24e1cac058102e866f169": {
     "views": []
    },
    "364460e0f98443c49e08faa309fdc169": {
     "views": []
    },
    "36fa1bef7a574efcabb10e16ef0d041e": {
     "views": []
    },
    "373e75f4043248538450f896bc5bb782": {
     "views": []
    },
    "38c80317dd4b48cf86d9aeb80cbd7c7c": {
     "views": []
    },
    "3da69a2382cc45529c597f9e4881e4a3": {
     "views": []
    },
    "406dd6af4e0843ef9e4697dd72db7bc1": {
     "views": [
      {
       "cell_index": 0
      }
     ]
    },
    "40a90b8bd5fc4614aa38570816f07b03": {
     "views": []
    },
    "413eb118ef66452fa50639ec68398d5a": {
     "views": []
    },
    "43057214708646ec9d3d1e75348a12a8": {
     "views": []
    },
    "446953e92312403f89a0aeea3666efe5": {
     "views": []
    },
    "44ec6e98757e4523a8cf7c243b40258f": {
     "views": []
    },
    "45510a82f1c142c58af802172ab55eed": {
     "views": []
    },
    "46d07067d9074bcf8cf04de304ecc4c6": {
     "views": []
    },
    "48879e7e7ce146e787208cfdbd4fc701": {
     "views": []
    },
    "48fd7bdc37444185b4c1d4e9adba890f": {
     "views": []
    },
    "4a6d65fa85964fa79761b8c95526b6b4": {
     "views": []
    },
    "4a8d2c266ca8434fb6af77d8e29e2119": {
     "views": []
    },
    "4bd44720520549f29617c445afb0a684": {
     "views": []
    },
    "4d244ba99d3040d2a2d46625ce0a6704": {
     "views": []
    },
    "4d9f4f55489a456e9ba803f4dc8a2fc4": {
     "views": []
    },
    "4db6744d52a84c3e930988b9f85a2158": {
     "views": []
    },
    "505400f1694741ce97fea9bfd909cdc1": {
     "views": []
    },
    "513935189dab4ec4a447880296aada44": {
     "views": []
    },
    "5284559f2b824407bfc1bd38bf052a08": {
     "views": []
    },
    "5414ea36f06642e48fcb0fadb6361835": {
     "views": []
    },
    "5532992cb14b4dcb8cde688c748e84bb": {
     "views": []
    },
    "557aac5a97614168b247dba1f0349040": {
     "views": []
    },
    "55ee71b84d404bed828b540491d2321a": {
     "views": []
    },
    "56114094e5504dffadc1ebe7e2c1e972": {
     "views": []
    },
    "56704659a8b649279ae4f1325e9c30f1": {
     "views": []
    },
    "579661e4521a47dc97389a1e8c18b28a": {
     "views": []
    },
    "584714c981914aea8dfb4f8e1158cec9": {
     "views": []
    },
    "58ca44546f144e8199eb7324b80e523c": {
     "views": []
    },
    "5913b9de73034febaf08df34fb3b8406": {
     "views": []
    },
    "598240569111466c9ea4da4641790d17": {
     "views": []
    },
    "59babbb12d5c4380aa1accba8673bc30": {
     "views": []
    },
    "59de2c5961a04d6bb54ce3ea9bec5b2d": {
     "views": []
    },
    "59e4d7f1df344713bb6cf395e68c0bab": {
     "views": []
    },
    "5d0f4bba73594da8a777dd53de465479": {
     "views": []
    },
    "5eb81174205e4abcad5d0e2a51b81cd3": {
     "views": []
    },
    "5fe9271cee6a4fd099fbae639337df2c": {
     "views": []
    },
    "611c6b8525aa417e8cb15b89de12fafd": {
     "views": []
    },
    "6163cf72d5db4e7eb01fee87570bf138": {
     "views": []
    },
    "62090585dfd94a87a395e84b78fc184f": {
     "views": []
    },
    "64a257ba6acd4d5c9c13afe44779a411": {
     "views": []
    },
    "6565b524fde840889b46e1a43a84b1dd": {
     "views": []
    },
    "684ffb325ee5447fa57682c764daa3cd": {
     "views": []
    },
    "695a7aead87741afafe195d7d05929c6": {
     "views": []
    },
    "6995f744dd834210ad48cf2228349393": {
     "views": []
    },
    "69b283e6a90846a1afa80a7410e2f002": {
     "views": []
    },
    "69c19caa59fb4815bc783c77d45ac5cd": {
     "views": []
    },
    "6b89d4223fdd4aa480748cca531178e7": {
     "views": []
    },
    "6c7be6266d934c9591d48209a96a8ad9": {
     "views": []
    },
    "6cb2556b02d849da8052e3070001a5ee": {
     "views": []
    },
    "6d3c329b8a124102a21aabc486beb125": {
     "views": []
    },
    "6d3fe4b8015b4b14a6d08370e65fe0d5": {
     "views": []
    },
    "7075fc3b9c674b6a83f477ee4142fdb6": {
     "views": []
    },
    "70e9527c90d34f88807087a444d31651": {
     "views": []
    },
    "71c68c0bfc8d42949a464fecd738080f": {
     "views": []
    },
    "75943773093c41e488d0cd1ad39a6eff": {
     "views": []
    },
    "76ec1673d7754584a454fcc6b92742aa": {
     "views": []
    },
    "7987f2341bf2442b9c60726c597deca8": {
     "views": []
    },
    "7a8248c06b6149eba48effd1f6affcd6": {
     "views": []
    },
    "7bec093ff3da4036b2f74e5e0c8a9a3b": {
     "views": []
    },
    "7c17b334be8643a09eb3136b0c70445d": {
     "views": []
    },
    "7d1d39587a1e402ca70b4ff2713fb2b3": {
     "views": []
    },
    "7e558b34e52444c78b3d3634dec6f981": {
     "views": []
    },
    "7efd44da6e5a41f68213028688e8cae6": {
     "views": []
    },
    "7f62cf96f2bb4a47896b52e4088be08b": {
     "views": []
    },
    "7f6d10385348487bb87b0ef9f8ee3bc9": {
     "views": []
    },
    "802e5d0e071e489aa60f49fa3f97131e": {
     "views": []
    },
    "81b1e02617e94f198bc08558a20bbbe5": {
     "views": []
    },
    "81c84a0bc5c84afbbb0922dbe00d48ec": {
     "views": []
    },
    "836268d713ce4e7390a073b0dcd0b716": {
     "views": []
    },
    "86da7dd11e684a609f55eee5cf6843c1": {
     "views": []
    },
    "86db0fc8949949739d7c289acbd2faf1": {
     "views": []
    },
    "87393365dd854f9a9d79fbf89aecdc8d": {
     "views": []
    },
    "881f2b8664d6489c9d38060a7b397e07": {
     "views": []
    },
    "8856003752b543b2a5501b4959c3c5d3": {
     "views": []
    },
    "8896748e5db94362a30a3922b0812352": {
     "views": []
    },
    "89f21fb4ca1d4035bf515f8392606954": {
     "views": []
    },
    "8ab623a843f648219be7763cacda1029": {
     "views": []
    },
    "8fc2f4138ec34926a108e0925bdd5f7c": {
     "views": []
    },
    "90ccb91959614d7aae22f2d3dc1813c0": {
     "views": []
    },
    "929faac9e08b4530aac6af1ac9e49778": {
     "views": []
    },
    "92af152bf437470ca6119f9da63e10c8": {
     "views": []
    },
    "93db51b7e5604fe68d3f126068293f09": {
     "views": []
    },
    "958fe76d9b5a4702a835a053bc18df7e": {
     "views": []
    },
    "9624b4a4934b444d846ef64f97b96d0d": {
     "views": []
    },
    "968a814daa884a7397a3f9c2e999274e": {
     "views": []
    },
    "9952014f27b34a49a854de9685643c2a": {
     "views": []
    },
    "9987aaf644134b8aa414d78e3b674f0c": {
     "views": []
    },
    "9a6a389bc08b4bebaa081378834a8bbb": {
     "views": []
    },
    "9b739de4ef78475fa60bb828894420db": {
     "views": []
    },
    "9ccb9caf034f41f796d0839bcaa346a5": {
     "views": []
    },
    "9d28bff1fc084ca99107b3049c66ff56": {
     "views": []
    },
    "9d9fd12dc0614229a6cdd630f27542ab": {
     "views": []
    },
    "9f70f4abe6594505b0be4b9517866eb8": {
     "views": []
    },
    "9f9f868b7d674b28ae87471e99503b56": {
     "views": []
    },
    "a070d34ef7dc4c43bb8ff10f8acfba90": {
     "views": []
    },
    "a10e49e7a59f4b1b87d5b54da3000e11": {
     "views": []
    },
    "a16b749a17b549a08fb1b5da69ebd644": {
     "views": []
    },
    "a40b783b25704a1ab710a1de9a3850da": {
     "views": []
    },
    "a4e4c591a98c40dfa2948e002459fca4": {
     "views": []
    },
    "a7860f3d71f84299bf7b8302620a91fe": {
     "views": []
    },
    "a89d57d4bab3480b987c46b27f0a1411": {
     "views": []
    },
    "a8a183856c9f4e05bd361feadf5cedd9": {
     "views": []
    },
    "a8e00736d13c48e3b57a83d49ed2a509": {
     "views": []
    },
    "aa3c46d3e4264b83b45b0c6d2df41923": {
     "views": []
    },
    "aa959b8d5238437f80ed88e042419708": {
     "views": []
    },
    "ab750ae6bf4d4da0bfd8573a36250cbf": {
     "views": []
    },
    "ace64d1844d44c53a14e12ea698a0277": {
     "views": []
    },
    "af3e1e1fd24d49f98ee5cc738b9c1660": {
     "views": []
    },
    "b0763173f16b457a8f838df1417ba373": {
     "views": []
    },
    "b0b91c4965034b468da8ec63e36367fc": {
     "views": []
    },
    "b0ea709fa7034db8ac6c720756d745ff": {
     "views": []
    },
    "b10c8a5d1bdc4c66a0fcbb0f692dbc78": {
     "views": []
    },
    "b1840989cbd046c3a04108df8897ecb7": {
     "views": []
    },
    "b1ad4761021348a8ad21ae47b4025fd5": {
     "views": []
    },
    "b7a61d82fbf248f4bf50efc9dc986cb4": {
     "views": []
    },
    "ba64a0147ff34dfcb0a6a5d9233cdf1d": {
     "views": []
    },
    "ba694d449c9f4e11bc5f2a1d0cc15d95": {
     "views": []
    },
    "baddc5361f93433d9267bbf4a8609703": {
     "views": []
    },
    "bb24f587fd8b40889c0c977009c53866": {
     "views": []
    },
    "bd3c7191c32e4503ac83471741933713": {
     "views": []
    },
    "be4cd3fdc8854e99a566d45f1c1182ed": {
     "views": []
    },
    "bef8a1af924a4a0ca5cb378c51d95e17": {
     "views": []
    },
    "c3b48aa11fc3409ab0ae8910a172c30f": {
     "views": []
    },
    "c8b6158f3704407b9ef0f02aace73d72": {
     "views": []
    },
    "cd2170e64dd641079d7bcbc50c474e0a": {
     "views": []
    },
    "cd8a3a64810246aa9b0aebdd65775212": {
     "views": []
    },
    "d00219ba0d0c4b55a5743263fb6126a5": {
     "views": []
    },
    "d172e09df8fc40eeb7d56869f0142685": {
     "views": []
    },
    "d2c9aa15202a4b83a3f1fe6c198dbfc5": {
     "views": []
    },
    "d5912fabdda8459eb7697c24f4ba421a": {
     "views": []
    },
    "d602e28d96884e4db04336973735c78a": {
     "views": []
    },
    "d8328b04ab5244a78738f78d5a239a70": {
     "views": []
    },
    "d8f6b0d3595b4809a2e7c4719c4ffab4": {
     "views": []
    },
    "d9c72b1bc78a4e55b3857aa5fb317f51": {
     "views": []
    },
    "da0a58a2ef7e4e8e9bff9a336428b645": {
     "views": []
    },
    "dae114fb83bb4c6eba813add67b12a18": {
     "views": []
    },
    "dba478cc19d24e9dae8abd2ce24313ad": {
     "views": []
    },
    "dd90644a84f14debadd12c70d08aa717": {
     "views": []
    },
    "de985d6318b84f6980cfd9d558d59b03": {
     "views": []
    },
    "dfad50f0c34f4ffb88ef461be9928c6c": {
     "views": []
    },
    "dfd41059cea44dd09dfe92cc9e90c579": {
     "views": []
    },
    "e02816639a914dcaae8afcc0c988c9f8": {
     "views": []
    },
    "e041fea27c3a4effbeab991ceb62e9b9": {
     "views": []
    },
    "e06954ffab2d4164adcafdab7bbec900": {
     "views": []
    },
    "e16a6663d0ec4d019bda9d74b2ee849a": {
     "views": []
    },
    "e2c1fd459a6d417092cee96e92628512": {
     "views": []
    },
    "e3615b9461224ec8b574e730f7a6237a": {
     "views": []
    },
    "e3df0c37b6df42c5b2483634ac49e238": {
     "views": []
    },
    "e48cc4796f6144a0a0fba810ae6d7f49": {
     "views": []
    },
    "e50018f63c8748c7bd7f1ef958836b9c": {
     "views": []
    },
    "e57163c91d04454d9c2d8a7c4e4f3466": {
     "views": []
    },
    "e68de39e41ff41c1b482b422cd2f4c98": {
     "views": []
    },
    "e8cce1e85e5243ae88cf3d6bc0afc957": {
     "views": []
    },
    "e909f32f372f4d7d827e28ae3e937fb3": {
     "views": []
    },
    "ea023435709343108a278543fa7d7f08": {
     "views": []
    },
    "ec209e33241b471786ff2fffc51980d8": {
     "views": []
    },
    "ee53d1323d0b43388d242dd8b78ec267": {
     "views": []
    },
    "ee9c54f43d044fff9e1f3638bb26cb90": {
     "views": []
    },
    "eeb161bca73046c795c32a5d75764e6b": {
     "views": []
    },
    "efb5f4444c554825ae69c56204314179": {
     "views": []
    },
    "f174ddb7338f44f9941b7879da47f252": {
     "views": []
    },
    "f599d4cbe528420c9aeac90d3481c131": {
     "views": []
    },
    "f7006475cf154ef796c4856595164ea4": {
     "views": []
    },
    "f7bed2f851a248dfb82c78b41f5f9087": {
     "views": []
    },
    "f8a0903f504f44ba921ff08305665f37": {
     "views": []
    },
    "f976a3a7ec474c33bceb3a6c03d5fabe": {
     "views": []
    },
    "fb3e004ff6164f278223670c75f4f4ed": {
     "views": []
    },
    "fbad025e323e4a14a6cc9b8e254b4e14": {
     "views": []
    },
    "fcb3081220474766a9553ebb82c83b09": {
     "views": []
    },
    "fd2093f2dda94bd495b2c3f8fc5efc2e": {
     "views": []
    },
    "feaf19e879e643e1bdaec83a90dbd948": {
     "views": []
    },
    "ff7ad9149168419cb81e9f44c71533c2": {
     "views": []
    },
    "ffc4a20b14b34031a33b8cd80f250952": {
     "views": []
    }
   },
   "version": "1.1.2"
  }
 },
 "nbformat": 4,
 "nbformat_minor": 0
}
